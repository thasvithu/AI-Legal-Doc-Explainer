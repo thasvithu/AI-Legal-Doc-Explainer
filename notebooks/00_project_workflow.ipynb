{
 "cells": [
  {
   "cell_type": "markdown",
   "id": "e88c0aee",
   "metadata": {},
   "source": [
    "01 ) Created env with python 3.10\n"
   ]
  }
 ],
 "metadata": {
  "kernelspec": {
   "display_name": "Python 3",
   "language": "python",
   "name": "python3"
  },
  "language_info": {
   "name": "python",
   "version": "3.10.18"
  }
 },
 "nbformat": 4,
 "nbformat_minor": 5
}
